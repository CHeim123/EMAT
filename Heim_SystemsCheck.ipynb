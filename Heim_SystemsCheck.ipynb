{
 "cells": [
  {
   "cell_type": "markdown",
   "id": "f88031df",
   "metadata": {},
   "source": [
    "# What I Hope to Get Out of this Class\n",
    "## Corey Heim\n",
    "#### September 2, 2021\n",
    "\n",
    "_There are a few things I hope to get out of this class that I will list below:_\n",
    "\n",
    "1. Python- I have only had a few experiences were I have used python so I hope to learn more about it and gain new skills related to coding. \n",
    "2. Working with teams on different activities that use critical thinking to figure out problems related to python\n",
    "\n",
    "[Python](https://upload.wikimedia.org/wikipedia/commons/3/32/Python_molurus_molurus_2.jpg)\n",
    "\n"
   ]
  },
  {
   "cell_type": "code",
   "execution_count": 1,
   "id": "759f81c5",
   "metadata": {},
   "outputs": [
    {
     "name": "stdout",
     "output_type": "stream",
     "text": [
      "2\n",
      "3\n",
      "4\n",
      "5\n",
      "6\n"
     ]
    }
   ],
   "source": [
    "x = [0,1,2,3,4]\n",
    "\n",
    "for i in x:\n",
    "    z= i + 2\n",
    "    print(z)"
   ]
  },
  {
   "cell_type": "code",
   "execution_count": 16,
   "id": "d70ce097",
   "metadata": {},
   "outputs": [],
   "source": [
    "def sillything(x):\n",
    "    return \"silly \" + str(x)"
   ]
  },
  {
   "cell_type": "code",
   "execution_count": 17,
   "id": "71813af4",
   "metadata": {},
   "outputs": [
    {
     "data": {
      "text/plain": [
       "'silly hi'"
      ]
     },
     "execution_count": 17,
     "metadata": {},
     "output_type": "execute_result"
    }
   ],
   "source": [
    "sillything(\"hi\")"
   ]
  },
  {
   "cell_type": "code",
   "execution_count": 18,
   "id": "47ecbc3c",
   "metadata": {},
   "outputs": [],
   "source": [
    "j= sillything(\"dog\")"
   ]
  },
  {
   "cell_type": "code",
   "execution_count": 19,
   "id": "d0db1fec",
   "metadata": {},
   "outputs": [
    {
     "data": {
      "text/plain": [
       "'silly dog'"
      ]
     },
     "execution_count": 19,
     "metadata": {},
     "output_type": "execute_result"
    }
   ],
   "source": [
    "j"
   ]
  }
 ],
 "metadata": {
  "kernelspec": {
   "display_name": "Python 3 (ipykernel)",
   "language": "python",
   "name": "python3"
  },
  "language_info": {
   "codemirror_mode": {
    "name": "ipython",
    "version": 3
   },
   "file_extension": ".py",
   "mimetype": "text/x-python",
   "name": "python",
   "nbconvert_exporter": "python",
   "pygments_lexer": "ipython3",
   "version": "3.9.6"
  }
 },
 "nbformat": 4,
 "nbformat_minor": 5
}
